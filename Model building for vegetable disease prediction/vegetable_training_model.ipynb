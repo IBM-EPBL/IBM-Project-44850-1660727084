{
  "nbformat": 4,
  "nbformat_minor": 0,
  "metadata": {
    "colab": {
      "provenance": []
    },
    "kernelspec": {
      "name": "python3",
      "display_name": "Python 3"
    },
    "language_info": {
      "name": "python"
    }
  },
  "cells": [
    {
      "cell_type": "code",
      "execution_count": 16,
      "metadata": {
        "id": "Kmn87h7Qqva8"
      },
      "outputs": [],
      "source": [
        "from keras.preprocessing.image import ImageDataGenerator\n",
        "train_datagen=ImageDataGenerator(rescale=1./255,shear_range=0.2,zoom_range=0.2,horizontal_flip=True)\n",
        "test_datagen=ImageDataGenerator(rescale=1)"
      ]
    },
    {
      "cell_type": "code",
      "source": [
        "x_train=train_datagen.flow_from_directory(r'/content/drive/MyDrive/DataSet/Dataset Plant Disease/Veg-dataset/Veg-dataset/test_set',target_size=(128,128),batch_size=2,class_mode='categorical')\n",
        "x_test=test_datagen.flow_from_directory(r'/content/drive/MyDrive/DataSet/Dataset Plant Disease/Veg-dataset/Veg-dataset/train_set',target_size=(128,128),batch_size=2,class_mode='categorical')"
      ],
      "metadata": {
        "colab": {
          "base_uri": "https://localhost:8080/"
        },
        "id": "KwwIP59PrMHD",
        "outputId": "fe4f27e9-ed03-4155-9647-e55184674fd1"
      },
      "execution_count": 17,
      "outputs": [
        {
          "output_type": "stream",
          "name": "stdout",
          "text": [
            "Found 3416 images belonging to 9 classes.\n",
            "Found 11386 images belonging to 9 classes.\n"
          ]
        }
      ]
    },
    {
      "cell_type": "code",
      "source": [
        "from keras.models import Sequential\n",
        "from keras.layers import Dense\n",
        "from keras.layers import Convolution2D\n",
        "from keras.layers import MaxPooling2D\n",
        "from keras.layers import Flatten"
      ],
      "metadata": {
        "id": "-83sTKQ2rtqU"
      },
      "execution_count": 18,
      "outputs": []
    },
    {
      "cell_type": "code",
      "source": [
        "model=Sequential()"
      ],
      "metadata": {
        "id": "c6Gn5yy-rxi9"
      },
      "execution_count": 4,
      "outputs": []
    },
    {
      "cell_type": "code",
      "source": [
        "model.add(Convolution2D(32,(3,3),input_shape=(128,128,3),activation='relu'))"
      ],
      "metadata": {
        "id": "Llp2PuTTr2IS"
      },
      "execution_count": 5,
      "outputs": []
    },
    {
      "cell_type": "code",
      "source": [
        "model.add(MaxPooling2D(pool_size=(2,2)))"
      ],
      "metadata": {
        "id": "1HH4kT-Vr8gz"
      },
      "execution_count": 6,
      "outputs": []
    },
    {
      "cell_type": "code",
      "source": [
        "model.add(Flatten())"
      ],
      "metadata": {
        "id": "RiF3j7y7sDlT"
      },
      "execution_count": 7,
      "outputs": []
    },
    {
      "cell_type": "code",
      "source": [
        "model.add(Dense(units=300,kernel_initializer='uniform',activation='relu'))"
      ],
      "metadata": {
        "id": "rzYOisl9sHl0"
      },
      "execution_count": 8,
      "outputs": []
    },
    {
      "cell_type": "code",
      "source": [
        "model.add(Dense(units=150,kernel_initializer='uniform',activation='relu'))"
      ],
      "metadata": {
        "id": "0ilxaf50sI_7"
      },
      "execution_count": 9,
      "outputs": []
    },
    {
      "cell_type": "code",
      "source": [
        "model.add(Dense(units=75,kernel_initializer='uniform',activation='relu'))"
      ],
      "metadata": {
        "id": "umQ5x5ppsOSD"
      },
      "execution_count": 10,
      "outputs": []
    },
    {
      "cell_type": "code",
      "source": [
        "model.add(Dense(units=9,kernel_initializer='uniform',activation='softmax'))"
      ],
      "metadata": {
        "id": "RWDSMiy_sSkj"
      },
      "execution_count": 11,
      "outputs": []
    },
    {
      "cell_type": "code",
      "source": [
        "model.compile(loss='categorical_crossentropy',optimizer=\"adam\",metrics=[\"accuracy\"])"
      ],
      "metadata": {
        "id": "M38faTM6sWyy"
      },
      "execution_count": 12,
      "outputs": []
    },
    {
      "cell_type": "code",
      "source": [
        "model.fit(x_train,steps_per_epoch=89,epochs=20,validation_data=x_test,validation_steps=27)"
      ],
      "metadata": {
        "colab": {
          "base_uri": "https://localhost:8080/"
        },
        "id": "BWOC9xsSsam6",
        "outputId": "6fccc1fb-2a67-485d-e9bb-d3670d07bee8"
      },
      "execution_count": 13,
      "outputs": [
        {
          "output_type": "stream",
          "name": "stdout",
          "text": [
            "Epoch 1/20\n",
            "89/89 [==============================] - 66s 735ms/step - loss: 2.1991 - accuracy: 0.1685 - val_loss: 34.9906 - val_accuracy: 0.1667\n",
            "Epoch 2/20\n",
            "89/89 [==============================] - 52s 586ms/step - loss: 2.1355 - accuracy: 0.2191 - val_loss: 126.3206 - val_accuracy: 0.1481\n",
            "Epoch 3/20\n",
            "89/89 [==============================] - 52s 579ms/step - loss: 2.1752 - accuracy: 0.1629 - val_loss: 51.6178 - val_accuracy: 0.1667\n",
            "Epoch 4/20\n",
            "89/89 [==============================] - 48s 535ms/step - loss: 2.1048 - accuracy: 0.2079 - val_loss: 69.3990 - val_accuracy: 0.1852\n",
            "Epoch 5/20\n",
            "89/89 [==============================] - 48s 540ms/step - loss: 2.1155 - accuracy: 0.1910 - val_loss: 93.5892 - val_accuracy: 0.1852\n",
            "Epoch 6/20\n",
            "89/89 [==============================] - 49s 547ms/step - loss: 2.0742 - accuracy: 0.2191 - val_loss: 124.8375 - val_accuracy: 0.1852\n",
            "Epoch 7/20\n",
            "89/89 [==============================] - 47s 521ms/step - loss: 1.8939 - accuracy: 0.2809 - val_loss: 220.7767 - val_accuracy: 0.2407\n",
            "Epoch 8/20\n",
            "89/89 [==============================] - 44s 499ms/step - loss: 1.9078 - accuracy: 0.2978 - val_loss: 259.1734 - val_accuracy: 0.2222\n",
            "Epoch 9/20\n",
            "89/89 [==============================] - 43s 481ms/step - loss: 1.8248 - accuracy: 0.3202 - val_loss: 106.8574 - val_accuracy: 0.3333\n",
            "Epoch 10/20\n",
            "89/89 [==============================] - 42s 474ms/step - loss: 1.8874 - accuracy: 0.3146 - val_loss: 94.2278 - val_accuracy: 0.4630\n",
            "Epoch 11/20\n",
            "89/89 [==============================] - 42s 475ms/step - loss: 1.7656 - accuracy: 0.3427 - val_loss: 324.2667 - val_accuracy: 0.2963\n",
            "Epoch 12/20\n",
            "89/89 [==============================] - 42s 474ms/step - loss: 1.7070 - accuracy: 0.3146 - val_loss: 188.0005 - val_accuracy: 0.2407\n",
            "Epoch 13/20\n",
            "89/89 [==============================] - 39s 436ms/step - loss: 1.9401 - accuracy: 0.2753 - val_loss: 130.1401 - val_accuracy: 0.2593\n",
            "Epoch 14/20\n",
            "89/89 [==============================] - 41s 469ms/step - loss: 1.8265 - accuracy: 0.2978 - val_loss: 113.8954 - val_accuracy: 0.3333\n",
            "Epoch 15/20\n",
            "89/89 [==============================] - 40s 441ms/step - loss: 1.6787 - accuracy: 0.3202 - val_loss: 122.3567 - val_accuracy: 0.3519\n",
            "Epoch 16/20\n",
            "89/89 [==============================] - 38s 431ms/step - loss: 1.7424 - accuracy: 0.3090 - val_loss: 94.6337 - val_accuracy: 0.3704\n",
            "Epoch 17/20\n",
            "89/89 [==============================] - 36s 408ms/step - loss: 1.7309 - accuracy: 0.2865 - val_loss: 127.5731 - val_accuracy: 0.3148\n",
            "Epoch 18/20\n",
            "89/89 [==============================] - 37s 421ms/step - loss: 1.6828 - accuracy: 0.3764 - val_loss: 124.5040 - val_accuracy: 0.3704\n",
            "Epoch 19/20\n",
            "89/89 [==============================] - 38s 423ms/step - loss: 1.5997 - accuracy: 0.4045 - val_loss: 108.5413 - val_accuracy: 0.4259\n",
            "Epoch 20/20\n",
            "89/89 [==============================] - 38s 423ms/step - loss: 1.6695 - accuracy: 0.3652 - val_loss: 79.3885 - val_accuracy: 0.3519\n"
          ]
        },
        {
          "output_type": "execute_result",
          "data": {
            "text/plain": [
              "<keras.callbacks.History at 0x7f12002bba10>"
            ]
          },
          "metadata": {},
          "execution_count": 13
        }
      ]
    },
    {
      "cell_type": "code",
      "source": [
        "model.save('vegetable.h5')    "
      ],
      "metadata": {
        "id": "Gq1cVMV5x11C"
      },
      "execution_count": 19,
      "outputs": []
    },
    {
      "cell_type": "code",
      "source": [
        "model.summary()"
      ],
      "metadata": {
        "colab": {
          "base_uri": "https://localhost:8080/"
        },
        "id": "M8fo2vjByGJ6",
        "outputId": "6fe426b9-a6bf-43bd-e425-14ebaa56eb95"
      },
      "execution_count": 15,
      "outputs": [
        {
          "output_type": "stream",
          "name": "stdout",
          "text": [
            "Model: \"sequential\"\n",
            "_________________________________________________________________\n",
            " Layer (type)                Output Shape              Param #   \n",
            "=================================================================\n",
            " conv2d (Conv2D)             (None, 126, 126, 32)      896       \n",
            "                                                                 \n",
            " max_pooling2d (MaxPooling2D  (None, 63, 63, 32)       0         \n",
            " )                                                               \n",
            "                                                                 \n",
            " flatten (Flatten)           (None, 127008)            0         \n",
            "                                                                 \n",
            " dense (Dense)               (None, 300)               38102700  \n",
            "                                                                 \n",
            " dense_1 (Dense)             (None, 150)               45150     \n",
            "                                                                 \n",
            " dense_2 (Dense)             (None, 75)                11325     \n",
            "                                                                 \n",
            " dense_3 (Dense)             (None, 9)                 684       \n",
            "                                                                 \n",
            "=================================================================\n",
            "Total params: 38,160,755\n",
            "Trainable params: 38,160,755\n",
            "Non-trainable params: 0\n",
            "_________________________________________________________________\n"
          ]
        }
      ]
    }
  ]
}