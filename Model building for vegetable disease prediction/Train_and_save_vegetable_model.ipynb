{
  "nbformat": 4,
  "nbformat_minor": 0,
  "metadata": {
    "colab": {
      "provenance": []
    },
    "kernelspec": {
      "name": "python3",
      "display_name": "Python 3"
    },
    "language_info": {
      "name": "python"
    }
  },
  "cells": [
    {
      "cell_type": "code",
      "execution_count": 1,
      "metadata": {
        "id": "Kmn87h7Qqva8"
      },
      "outputs": [],
      "source": [
        "from keras.preprocessing.image import ImageDataGenerator\n",
        "train_datagen=ImageDataGenerator(rescale=1./255,shear_range=0.2,zoom_range=0.2,horizontal_flip=True)\n",
        "test_datagen=ImageDataGenerator(rescale=1)"
      ]
    },
    {
      "cell_type": "code",
      "source": [
        "x_train=train_datagen.flow_from_directory(r'/content/drive/MyDrive/DataSet/Dataset Plant Disease/Veg-dataset/Veg-dataset/test_set',target_size=(128,128),batch_size=2,class_mode='categorical')\n",
        "x_test=test_datagen.flow_from_directory(r'/content/drive/MyDrive/DataSet/Dataset Plant Disease/Veg-dataset/Veg-dataset/train_set',target_size=(128,128),batch_size=2,class_mode='categorical')"
      ],
      "metadata": {
        "colab": {
          "base_uri": "https://localhost:8080/"
        },
        "id": "KwwIP59PrMHD",
        "outputId": "afcec744-f9e1-49c6-8267-3c92a322434c"
      },
      "execution_count": 2,
      "outputs": [
        {
          "output_type": "stream",
          "name": "stdout",
          "text": [
            "Found 3416 images belonging to 9 classes.\n",
            "Found 11386 images belonging to 9 classes.\n"
          ]
        }
      ]
    },
    {
      "cell_type": "code",
      "source": [
        "from keras.models import Sequential\n",
        "from keras.layers import Dense\n",
        "from keras.layers import Convolution2D\n",
        "from keras.layers import MaxPooling2D\n",
        "from keras.layers import Flatten"
      ],
      "metadata": {
        "id": "-83sTKQ2rtqU"
      },
      "execution_count": 3,
      "outputs": []
    },
    {
      "cell_type": "code",
      "source": [
        "model=Sequential()"
      ],
      "metadata": {
        "id": "c6Gn5yy-rxi9"
      },
      "execution_count": 4,
      "outputs": []
    },
    {
      "cell_type": "code",
      "source": [
        "model.add(Convolution2D(32,(3,3),input_shape=(128,128,3),activation='relu'))"
      ],
      "metadata": {
        "id": "Llp2PuTTr2IS"
      },
      "execution_count": 5,
      "outputs": []
    },
    {
      "cell_type": "code",
      "source": [
        "model.add(MaxPooling2D(pool_size=(2,2)))"
      ],
      "metadata": {
        "id": "1HH4kT-Vr8gz"
      },
      "execution_count": 6,
      "outputs": []
    },
    {
      "cell_type": "code",
      "source": [
        "model.add(Flatten())"
      ],
      "metadata": {
        "id": "RiF3j7y7sDlT"
      },
      "execution_count": 7,
      "outputs": []
    },
    {
      "cell_type": "code",
      "source": [
        "model.add(Dense(units=300,kernel_initializer='uniform',activation='relu'))"
      ],
      "metadata": {
        "id": "rzYOisl9sHl0"
      },
      "execution_count": 8,
      "outputs": []
    },
    {
      "cell_type": "code",
      "source": [
        "model.add(Dense(units=150,kernel_initializer='uniform',activation='relu'))"
      ],
      "metadata": {
        "id": "0ilxaf50sI_7"
      },
      "execution_count": 9,
      "outputs": []
    },
    {
      "cell_type": "code",
      "source": [
        "model.add(Dense(units=75,kernel_initializer='uniform',activation='relu'))"
      ],
      "metadata": {
        "id": "umQ5x5ppsOSD"
      },
      "execution_count": 10,
      "outputs": []
    },
    {
      "cell_type": "code",
      "source": [
        "model.add(Dense(units=9,kernel_initializer='uniform',activation='softmax'))"
      ],
      "metadata": {
        "id": "RWDSMiy_sSkj"
      },
      "execution_count": 11,
      "outputs": []
    },
    {
      "cell_type": "code",
      "source": [
        "model.compile(loss='categorical_crossentropy',optimizer=\"adam\",metrics=[\"accuracy\"])"
      ],
      "metadata": {
        "id": "M38faTM6sWyy"
      },
      "execution_count": 12,
      "outputs": []
    },
    {
      "cell_type": "code",
      "source": [
        "model.fit(x_train,steps_per_epoch=89,epochs=20,validation_data=x_test,validation_steps=27)"
      ],
      "metadata": {
        "colab": {
          "base_uri": "https://localhost:8080/"
        },
        "id": "BWOC9xsSsam6",
        "outputId": "e94cd813-6a34-438a-f1f5-1507b03db6c6"
      },
      "execution_count": 13,
      "outputs": [
        {
          "output_type": "stream",
          "name": "stdout",
          "text": [
            "Epoch 1/20\n",
            "89/89 [==============================] - 54s 598ms/step - loss: 2.1894 - accuracy: 0.1461 - val_loss: 91.7690 - val_accuracy: 0.2963\n",
            "Epoch 2/20\n",
            "89/89 [==============================] - 49s 552ms/step - loss: 2.1202 - accuracy: 0.1629 - val_loss: 43.3223 - val_accuracy: 0.0926\n",
            "Epoch 3/20\n",
            "89/89 [==============================] - 46s 517ms/step - loss: 2.1168 - accuracy: 0.1798 - val_loss: 14.0214 - val_accuracy: 0.0926\n",
            "Epoch 4/20\n",
            "89/89 [==============================] - 45s 508ms/step - loss: 2.0995 - accuracy: 0.2360 - val_loss: 110.3762 - val_accuracy: 0.2407\n",
            "Epoch 5/20\n",
            "89/89 [==============================] - 44s 494ms/step - loss: 2.1611 - accuracy: 0.1573 - val_loss: 144.6876 - val_accuracy: 0.1481\n",
            "Epoch 6/20\n",
            "89/89 [==============================] - 42s 477ms/step - loss: 2.0941 - accuracy: 0.1910 - val_loss: 74.1632 - val_accuracy: 0.2037\n",
            "Epoch 7/20\n",
            "89/89 [==============================] - 41s 452ms/step - loss: 2.0100 - accuracy: 0.2528 - val_loss: 60.4025 - val_accuracy: 0.1852\n",
            "Epoch 8/20\n",
            "89/89 [==============================] - 40s 443ms/step - loss: 1.9105 - accuracy: 0.2978 - val_loss: 60.2871 - val_accuracy: 0.2593\n",
            "Epoch 9/20\n",
            "89/89 [==============================] - 40s 450ms/step - loss: 1.9016 - accuracy: 0.2753 - val_loss: 296.2625 - val_accuracy: 0.0926\n",
            "Epoch 10/20\n",
            "89/89 [==============================] - 39s 441ms/step - loss: 1.7237 - accuracy: 0.3539 - val_loss: 288.7085 - val_accuracy: 0.1296\n",
            "Epoch 11/20\n",
            "89/89 [==============================] - 37s 414ms/step - loss: 1.7521 - accuracy: 0.3090 - val_loss: 138.4269 - val_accuracy: 0.2407\n",
            "Epoch 12/20\n",
            "89/89 [==============================] - 38s 432ms/step - loss: 1.8078 - accuracy: 0.3483 - val_loss: 52.3283 - val_accuracy: 0.3333\n",
            "Epoch 13/20\n",
            "89/89 [==============================] - 36s 399ms/step - loss: 1.5800 - accuracy: 0.3989 - val_loss: 235.4403 - val_accuracy: 0.1481\n",
            "Epoch 14/20\n",
            "89/89 [==============================] - 35s 390ms/step - loss: 1.5518 - accuracy: 0.4607 - val_loss: 241.2974 - val_accuracy: 0.1667\n",
            "Epoch 15/20\n",
            "89/89 [==============================] - 34s 382ms/step - loss: 1.4064 - accuracy: 0.4944 - val_loss: 325.5857 - val_accuracy: 0.0926\n",
            "Epoch 16/20\n",
            "89/89 [==============================] - 32s 364ms/step - loss: 1.4959 - accuracy: 0.4607 - val_loss: 55.4816 - val_accuracy: 0.2222\n",
            "Epoch 17/20\n",
            "89/89 [==============================] - 31s 350ms/step - loss: 1.4470 - accuracy: 0.5225 - val_loss: 591.4349 - val_accuracy: 0.1852\n",
            "Epoch 18/20\n",
            "89/89 [==============================] - 33s 373ms/step - loss: 1.5092 - accuracy: 0.4438 - val_loss: 237.9881 - val_accuracy: 0.1852\n",
            "Epoch 19/20\n",
            "89/89 [==============================] - 33s 374ms/step - loss: 1.5215 - accuracy: 0.4213 - val_loss: 183.2546 - val_accuracy: 0.2407\n",
            "Epoch 20/20\n",
            "89/89 [==============================] - 32s 358ms/step - loss: 1.3110 - accuracy: 0.5393 - val_loss: 166.2966 - val_accuracy: 0.3148\n"
          ]
        },
        {
          "output_type": "execute_result",
          "data": {
            "text/plain": [
              "<keras.callbacks.History at 0x7f231951b410>"
            ]
          },
          "metadata": {},
          "execution_count": 13
        }
      ]
    },
    {
      "cell_type": "code",
      "source": [
        "model.save(r'C:\\Users\\Benisha\\project\\flask\\uploads\\vegetable.h5')    "
      ],
      "metadata": {
        "id": "Gq1cVMV5x11C"
      },
      "execution_count": 18,
      "outputs": []
    },
    {
      "cell_type": "code",
      "source": [
        "model.summary()"
      ],
      "metadata": {
        "colab": {
          "base_uri": "https://localhost:8080/"
        },
        "id": "M8fo2vjByGJ6",
        "outputId": "45440f8d-9513-41b1-9a63-6b4a01e4cffe"
      },
      "execution_count": 19,
      "outputs": [
        {
          "output_type": "stream",
          "name": "stdout",
          "text": [
            "Model: \"sequential\"\n",
            "_________________________________________________________________\n",
            " Layer (type)                Output Shape              Param #   \n",
            "=================================================================\n",
            " conv2d (Conv2D)             (None, 126, 126, 32)      896       \n",
            "                                                                 \n",
            " max_pooling2d (MaxPooling2D  (None, 63, 63, 32)       0         \n",
            " )                                                               \n",
            "                                                                 \n",
            " flatten (Flatten)           (None, 127008)            0         \n",
            "                                                                 \n",
            " dense (Dense)               (None, 300)               38102700  \n",
            "                                                                 \n",
            " dense_1 (Dense)             (None, 150)               45150     \n",
            "                                                                 \n",
            " dense_2 (Dense)             (None, 75)                11325     \n",
            "                                                                 \n",
            " dense_3 (Dense)             (None, 9)                 684       \n",
            "                                                                 \n",
            "=================================================================\n",
            "Total params: 38,160,755\n",
            "Trainable params: 38,160,755\n",
            "Non-trainable params: 0\n",
            "_________________________________________________________________\n"
          ]
        }
      ]
    }
  ]
}